{
 "cells": [
  {
   "cell_type": "markdown",
   "id": "41810676",
   "metadata": {},
   "source": [
    "#### TODO: IN PROGRESS"
   ]
  },
  {
   "cell_type": "code",
   "execution_count": 2,
   "id": "3434cbd1",
   "metadata": {},
   "outputs": [
    {
     "data": {
      "text/plain": [
       "True"
      ]
     },
     "execution_count": 2,
     "metadata": {},
     "output_type": "execute_result"
    }
   ],
   "source": [
    "from dotenv import load_dotenv\n",
    "import os\n",
    "from langgraph.graph import StateGraph, END\n",
    "from typing import TypedDict, Annotated, Sequence\n",
    "from langchain_core.messages import BaseMessage, SystemMessage, HumanMessage, ToolMessage\n",
    "from operator import add as add_messages\n",
    "from langchain_community.document_loaders import PyPDFLoader\n",
    "from langchain.text_splitter import RecursiveCharacterTextSplitter\n",
    "from langchain_chroma import Chroma\n",
    "from langchain_core.tools import tool\n",
    "\n",
    "load_dotenv()"
   ]
  },
  {
   "cell_type": "markdown",
   "id": "b39855d4",
   "metadata": {},
   "source": [
    "#### Load PDF for RAG context"
   ]
  },
  {
   "cell_type": "code",
   "execution_count": null,
   "id": "820ebe21",
   "metadata": {},
   "outputs": [
    {
     "name": "stdout",
     "output_type": "stream",
     "text": [
      "PDF has been loaded and has 9 pages\n"
     ]
    }
   ],
   "source": [
    "from langchain_google_genai import GoogleGenerativeAIEmbeddings\n",
    "from langchain_google_genai import ChatGoogleGenerativeAI\n",
    "\n",
    "llm = ChatGoogleGenerativeAI(\n",
    "    model=\"gemini-2.5-flash\", temperature = 0) # I want to minimize hallucination - temperature = 0 makes the model output more deterministic \n",
    "\n",
    "# Our Embedding Model - has to also be compatible with the LLM\n",
    "embeddings = GoogleGenerativeAIEmbeddings(\n",
    "    model=\"models/gemini-embedding-001\"\n",
    ")\n",
    "\n",
    "pdf_path = \"./pdfs/Stock_Market_Performance_2024.pdf\"\n",
    "\n",
    "# Safety measure I have put for debugging purposes :)\n",
    "if not os.path.exists(pdf_path):\n",
    "    raise FileNotFoundError(f\"PDF file not found: {pdf_path}\")\n",
    "\n",
    "pdf_loader = PyPDFLoader(pdf_path) # This loads the PDF\n",
    "\n",
    "# Checks if the PDF is there\n",
    "try:\n",
    "    pages = pdf_loader.load()\n",
    "    print(f\"PDF has been loaded and has {len(pages)} pages\")\n",
    "except Exception as e:\n",
    "    print(f\"Error loading PDF: {e}\")\n",
    "    raise"
   ]
  },
  {
   "cell_type": "markdown",
   "id": "d281434d",
   "metadata": {},
   "source": [
    "#### Chunk, Vectorise and store in vector DB"
   ]
  },
  {
   "cell_type": "code",
   "execution_count": 6,
   "id": "044f4963",
   "metadata": {},
   "outputs": [
    {
     "name": "stdout",
     "output_type": "stream",
     "text": [
      "Created ChromaDB vector store!\n"
     ]
    }
   ],
   "source": [
    "# Chunking Process\n",
    "text_splitter = RecursiveCharacterTextSplitter(\n",
    "    chunk_size=1000,\n",
    "    chunk_overlap=200\n",
    ")\n",
    "\n",
    "pages_split = text_splitter.split_documents(pages) # We now apply this to our pages\n",
    "\n",
    "persist_directory = \"./chromaDB_storage/\"\n",
    "collection_name = \"stock_market_data_2024\"\n",
    "\n",
    "# If our collection does not exist in the directory, we create using the os command\n",
    "if not os.path.exists(persist_directory):\n",
    "    os.makedirs(persist_directory)\n",
    "\n",
    "\n",
    "try:\n",
    "    # Here, we actually create the chroma database using our embeddigns model\n",
    "    vectorstore = Chroma.from_documents(\n",
    "        documents=pages_split,\n",
    "        embedding=embeddings,\n",
    "        persist_directory=persist_directory,\n",
    "        collection_name=collection_name\n",
    "    )\n",
    "    print(f\"Created ChromaDB vector store!\")\n",
    "    \n",
    "except Exception as e:\n",
    "    print(f\"Error setting up ChromaDB: {str(e)}\")\n",
    "    raise\n",
    "\n",
    "\n",
    "# Now we create our retriever \n",
    "retriever = vectorstore.as_retriever(\n",
    "    search_type=\"similarity\",\n",
    "    search_kwargs={\"k\": 5} # K is the amount of chunks to return\n",
    ")\n",
    "\n",
    "@tool\n",
    "def retriever_tool(query: str) -> str:\n",
    "    \"\"\"\n",
    "    This tool searches and returns the information from the Stock Market Performance 2024 document.\n",
    "    \"\"\"\n",
    "\n",
    "    docs = retriever.invoke(query)\n",
    "\n",
    "    if not docs:\n",
    "        return \"I found no relevant information in the Stock Market Performance 2024 document.\"\n",
    "    \n",
    "    results = []\n",
    "    for i, doc in enumerate(docs):\n",
    "        results.append(f\"Document {i+1}:\\n{doc.page_content}\")\n",
    "    \n",
    "    return \"\\n\\n\".join(results)"
   ]
  },
  {
   "cell_type": "code",
   "execution_count": 9,
   "id": "e392f154",
   "metadata": {},
   "outputs": [
    {
     "data": {
      "text/plain": [
       "'Document 1:\\n. Alphabet\\'s financial results helped justify its stock gains. The company\\'s revenues and earnings\\nsaw healthy growth in 2024, thanks to a rebound in ad spending and efficiency efforts. By year-end,\\nAlphabet\\'s valuation remained relatively reasonable compared to its peers - about 23× trailing\\nearnings\\nmacrotrends.net\\n. This was roughly unchanged from its P/E a year prior, indicating that Alphabet\\'s ~36% stock price\\nincrease was largely matched by an increase in its earnings over the same period. In summary,\\nGoogle\\'s parent company enjoyed a robust 2024 rally built on both improved fundamentals and\\ninvestor excitement about its leadership in AI and technology innovation.\\nAmazon.com Inc. (AMZN) - 2024 Performance\\nAmazon\\'s stock staged an impressive rebound in 2024, advancing roughly 48% for the year\\n. The e-commerce and cloud computing giant saw its share price rise from about $152 at the end of\\n2023 to around $219 by December 2024\\nmacrotrends.net\\n\\nDocument 2:\\nsingle digits), the stock\\'s rapid appreciation led to an expansion in valuation. By the end of 2024\\nApple was trading at about 40 times its trailing earnings\\nmacrotrends.net\\n, well above its historical average P/E in the mid-20s. This elevated P/E ratio reflected substantial\\noptimism from investors and a willingness to pay a premium for Apple\\'s steady cash flows and\\necosystem advantages. In short, Apple\\'s combination of robust stock price growth and relatively\\nmodest earnings growth pushed its valuation to a lofty level going into 2025.\\nAlphabet (Google) (GOOGL) - 2024 Performance\\nAlphabet Inc., the parent of Google, also delivered strong results for shareholders in 2024.\\nAlphabet\\'s stock price rose by nearly 40% over the year\\n, closing around $189 per share - close to record highs for the company. This performance added\\nroughly $600 billion in market value, pushing Alphabet\\'s market capitalization above $2 trillion by\\n\\nDocument 3:\\nStock Market Performance in 2024\\nU.S. Market Overview\\nThe year 2024 was a remarkably strong one for equities, with the U.S. stock market extending the\\nrobust gains seen in the prior year. The benchmark S&P 500 index delivered roughly a 25% total\\nreturn for 2024 (around +23% in price terms)\\n. This marked the second consecutive year of over 20% returns for the S&P 500 - a feat not\\nobserved since the late 1990s\\n. The tech-heavy Nasdaq Composite outpaced the broader market, jumping nearly 29% for the year\\n. In contrast, smaller-cap stocks had more modest performance: the S&P 500 Equal-Weight index\\nand the Russell 2000 (small-cap benchmark) each rose about 10-11% in 2024\\n. The disparity underscored that 2024\\'s rally was not evenly distributed across the market. A key\\ntheme was the dominance of mega-cap technology stocks. A group of seven powerhouse\\ncompanies often dubbed the \"Magnificent 7\" - Apple, Microsoft, Alphabet (Google), Amazon, Meta\\n\\nDocument 4:\\nthan the stock price. Even at 40× earnings, Amazon\\'s valuation was still on the higher side\\ncompared to the broader market, but investors seemed comfortable paying a premium for its\\ndominant market positions. Overall, 2024 marked a return to form for Amazon\\'s stock, as the\\ncompany regained its footing with investors and recouped a substantial portion of the market value it\\nhad lost in the prior year.\\nMeta Platforms (Facebook) (META) - 2024 Performance\\nMeta Platforms, the parent company of Facebook, Instagram, and WhatsApp, was one of 2024\\'s\\nstandout performers. Meta\\'s stock price skyrocketed about 72% during the year\\n, making it one of the best-performing large-cap stocks. The share price surged from roughly $352 at\\nthe end of 2023 to around $585 by December 2024\\nmacrotrends.net\\n. In the process, Meta\\'s market capitalization climbed back above the $1 trillion threshold - a\\nremarkable turnaround after the company\\'s challenges just two years prior. Several catalysts\\n\\nDocument 5:\\n, closing around $189 per share - close to record highs for the company. This performance added\\nroughly $600 billion in market value, pushing Alphabet\\'s market capitalization above $2 trillion by\\nDecember 2024. Key to this rally was Alphabet\\'s core strength in digital advertising (still a major\\nrevenue driver) and its strides in artificial intelligence. The company demonstrated innovation in AI,\\nincluding the introduction of its Gemini 2.0 AI model and breakthroughs in quantum computing chips\\n, which reassured investors that Google \"still has its mojo\" in the evolving tech landscape. Google\\'s\\ncloud computing division also continued to grow, contributing to the overall positive sentiment'"
      ]
     },
     "execution_count": 9,
     "metadata": {},
     "output_type": "execute_result"
    }
   ],
   "source": [
    "# To show the working of Vector Database\n",
    "retriever_tool(\"How did Google perform in 2024?\")"
   ]
  },
  {
   "cell_type": "markdown",
   "id": "1451fa76",
   "metadata": {},
   "source": [
    "#### Making the graph using langgraph"
   ]
  },
  {
   "cell_type": "code",
   "execution_count": null,
   "id": "de83ee90",
   "metadata": {},
   "outputs": [],
   "source": [
    "tools = [retriever_tool]\n",
    "\n",
    "llm = llm.bind_tools(tools)\n",
    "\n",
    "class AgentState(TypedDict):\n",
    "    messages: Annotated[Sequence[BaseMessage], add_messages]\n",
    "\n",
    "\n",
    "def should_continue(state: AgentState):\n",
    "    \"\"\"Check if the last message contains tool calls.\"\"\"\n",
    "    result = state['messages'][-1]\n",
    "    return hasattr(result, 'tool_calls') and len(result.tool_calls) > 0\n",
    "\n",
    "\n",
    "system_prompt = \"\"\"\n",
    "You are an intelligent AI assistant who answers questions about Stock Market Performance in 2024 based on the PDF document loaded into your knowledge base.\n",
    "Use the retriever tool available to answer questions about the stock market performance data. You can make multiple calls if needed.\n",
    "If you need to look up some information before asking a follow up question, you are allowed to do that!\n",
    "Please always cite the specific parts of the documents you use in your answers.\n",
    "\"\"\"\n",
    "\n",
    "\n",
    "tools_dict = {our_tool.name: our_tool for our_tool in tools} # Creating a dictionary of our tools\n",
    "\n",
    "# LLM Agent\n",
    "def call_llm(state: AgentState) -> AgentState:\n",
    "    \"\"\"Function to call the LLM with the current state.\"\"\"\n",
    "    messages = list(state['messages'])\n",
    "    messages = [SystemMessage(content=system_prompt)] + messages\n",
    "    response = llm.invoke(messages)\n",
    "    return {'messages': [response]}"
   ]
  }
 ],
 "metadata": {
  "kernelspec": {
   "display_name": "Mlvenv",
   "language": "python",
   "name": "python3"
  },
  "language_info": {
   "codemirror_mode": {
    "name": "ipython",
    "version": 3
   },
   "file_extension": ".py",
   "mimetype": "text/x-python",
   "name": "python",
   "nbconvert_exporter": "python",
   "pygments_lexer": "ipython3",
   "version": "3.12.11"
  }
 },
 "nbformat": 4,
 "nbformat_minor": 5
}
