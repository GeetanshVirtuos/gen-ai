{
 "cells": [
  {
   "cell_type": "markdown",
   "id": "41810676",
   "metadata": {},
   "source": [
    "#### TODO: IN PROGRESS"
   ]
  },
  {
   "cell_type": "code",
   "execution_count": 1,
   "id": "3434cbd1",
   "metadata": {},
   "outputs": [
    {
     "data": {
      "text/plain": [
       "True"
      ]
     },
     "execution_count": 1,
     "metadata": {},
     "output_type": "execute_result"
    }
   ],
   "source": [
    "from dotenv import load_dotenv\n",
    "import os\n",
    "from langgraph.graph import StateGraph, END\n",
    "from typing import TypedDict, Annotated, Sequence\n",
    "from langchain_core.messages import BaseMessage, SystemMessage, HumanMessage, ToolMessage\n",
    "from operator import add as add_messages\n",
    "from langchain_community.document_loaders import PyPDFLoader\n",
    "from langchain.text_splitter import RecursiveCharacterTextSplitter\n",
    "from langchain_chroma import Chroma\n",
    "from langchain_core.tools import tool\n",
    "\n",
    "load_dotenv()"
   ]
  },
  {
   "cell_type": "markdown",
   "id": "b39855d4",
   "metadata": {},
   "source": [
    "#### Load PDF for RAG context"
   ]
  },
  {
   "cell_type": "code",
   "execution_count": 2,
   "id": "820ebe21",
   "metadata": {},
   "outputs": [
    {
     "name": "stdout",
     "output_type": "stream",
     "text": [
      "PDF has been loaded and has 9 pages\n"
     ]
    }
   ],
   "source": [
    "from langchain_google_genai import GoogleGenerativeAIEmbeddings\n",
    "from langchain_google_genai import ChatGoogleGenerativeAI\n",
    "\n",
    "llm = ChatGoogleGenerativeAI(\n",
    "    model=\"gemini-2.5-flash\", temperature = 0) # I want to minimize hallucination - temperature = 0 makes the model output more deterministic \n",
    "\n",
    "# Our Embedding Model - has to also be compatible with the LLM\n",
    "embeddings = GoogleGenerativeAIEmbeddings(\n",
    "    model=\"models/gemini-embedding-001\"\n",
    ")\n",
    "\n",
    "pdf_path = \"./pdfs/Stock_Market_Performance_2024.pdf\"\n",
    "\n",
    "# Safety measure I have put for debugging purposes :)\n",
    "if not os.path.exists(pdf_path):\n",
    "    raise FileNotFoundError(f\"PDF file not found: {pdf_path}\")\n",
    "\n",
    "pdf_loader = PyPDFLoader(pdf_path) # This loads the PDF\n",
    "\n",
    "# Checks if the PDF is there\n",
    "try:\n",
    "    pages = pdf_loader.load()\n",
    "    print(f\"PDF has been loaded and has {len(pages)} pages\")\n",
    "except Exception as e:\n",
    "    print(f\"Error loading PDF: {e}\")\n",
    "    raise"
   ]
  },
  {
   "cell_type": "markdown",
   "id": "d281434d",
   "metadata": {},
   "source": [
    "#### Chunk, Vectorise and store in vector DB"
   ]
  },
  {
   "cell_type": "code",
   "execution_count": 3,
   "id": "044f4963",
   "metadata": {},
   "outputs": [
    {
     "name": "stdout",
     "output_type": "stream",
     "text": [
      "Created ChromaDB vector store!\n"
     ]
    }
   ],
   "source": [
    "# Chunking Process\n",
    "text_splitter = RecursiveCharacterTextSplitter(\n",
    "    chunk_size=1000,\n",
    "    chunk_overlap=200\n",
    ")\n",
    "\n",
    "pages_split = text_splitter.split_documents(pages) # We now apply this to our pages\n",
    "\n",
    "persist_directory = \"./chromaDB_storage/\"\n",
    "collection_name = \"stock_market_data_2024\"\n",
    "\n",
    "# If our collection does not exist in the directory, we create using the os command\n",
    "if not os.path.exists(persist_directory):\n",
    "    os.makedirs(persist_directory)\n",
    "\n",
    "\n",
    "try:\n",
    "    # Here, we actually create the chroma database using our embeddigns model\n",
    "    vectorstore = Chroma.from_documents(\n",
    "        documents=pages_split,\n",
    "        embedding=embeddings,\n",
    "        persist_directory=persist_directory,\n",
    "        collection_name=collection_name\n",
    "    )\n",
    "    print(f\"Created ChromaDB vector store!\")\n",
    "    \n",
    "except Exception as e:\n",
    "    print(f\"Error setting up ChromaDB: {str(e)}\")\n",
    "    raise\n",
    "\n",
    "\n",
    "# Now we create our retriever \n",
    "retriever = vectorstore.as_retriever(\n",
    "    search_type=\"similarity\",\n",
    "    search_kwargs={\"k\": 5} # K is the amount of chunks to return\n",
    ")\n",
    "\n",
    "@tool\n",
    "def retriever_tool(query: str) -> str:\n",
    "    \"\"\"\n",
    "    This tool searches and returns the information from the Stock Market Performance 2024 document.\n",
    "    \"\"\"\n",
    "\n",
    "    docs = retriever.invoke(query)\n",
    "\n",
    "    if not docs:\n",
    "        return \"I found no relevant information in the Stock Market Performance 2024 document.\"\n",
    "    \n",
    "    results = []\n",
    "    for i, doc in enumerate(docs):\n",
    "        results.append(f\"Document {i+1}:\\n{doc.page_content}\")\n",
    "    \n",
    "    return \"\\n\\n\".join(results)"
   ]
  },
  {
   "cell_type": "code",
   "execution_count": 4,
   "id": "e392f154",
   "metadata": {},
   "outputs": [
    {
     "name": "stderr",
     "output_type": "stream",
     "text": [
      "/var/folders/r8/yj4wm4t13l398qfqjr6z16d40000gn/T/ipykernel_1847/113393410.py:2: LangChainDeprecationWarning: The method `BaseTool.__call__` was deprecated in langchain-core 0.1.47 and will be removed in 1.0. Use :meth:`~invoke` instead.\n",
      "  retriever_tool(\"How did Google perform in 2024?\")\n",
      "WARNING: All log messages before absl::InitializeLog() is called are written to STDERR\n",
      "I0000 00:00:1757652891.308555   60996 fork_posix.cc:71] Other threads are currently calling into gRPC, skipping fork() handlers\n"
     ]
    },
    {
     "data": {
      "text/plain": [
       "'Document 1:\\n. Alphabet\\'s financial results helped justify its stock gains. The company\\'s revenues and earnings\\nsaw healthy growth in 2024, thanks to a rebound in ad spending and efficiency efforts. By year-end,\\nAlphabet\\'s valuation remained relatively reasonable compared to its peers - about 23× trailing\\nearnings\\nmacrotrends.net\\n. This was roughly unchanged from its P/E a year prior, indicating that Alphabet\\'s ~36% stock price\\nincrease was largely matched by an increase in its earnings over the same period. In summary,\\nGoogle\\'s parent company enjoyed a robust 2024 rally built on both improved fundamentals and\\ninvestor excitement about its leadership in AI and technology innovation.\\nAmazon.com Inc. (AMZN) - 2024 Performance\\nAmazon\\'s stock staged an impressive rebound in 2024, advancing roughly 48% for the year\\n. The e-commerce and cloud computing giant saw its share price rise from about $152 at the end of\\n2023 to around $219 by December 2024\\nmacrotrends.net\\n\\nDocument 2:\\n. Alphabet\\'s financial results helped justify its stock gains. The company\\'s revenues and earnings\\nsaw healthy growth in 2024, thanks to a rebound in ad spending and efficiency efforts. By year-end,\\nAlphabet\\'s valuation remained relatively reasonable compared to its peers - about 23× trailing\\nearnings\\nmacrotrends.net\\n. This was roughly unchanged from its P/E a year prior, indicating that Alphabet\\'s ~36% stock price\\nincrease was largely matched by an increase in its earnings over the same period. In summary,\\nGoogle\\'s parent company enjoyed a robust 2024 rally built on both improved fundamentals and\\ninvestor excitement about its leadership in AI and technology innovation.\\nAmazon.com Inc. (AMZN) - 2024 Performance\\nAmazon\\'s stock staged an impressive rebound in 2024, advancing roughly 48% for the year\\n. The e-commerce and cloud computing giant saw its share price rise from about $152 at the end of\\n2023 to around $219 by December 2024\\nmacrotrends.net\\n\\nDocument 3:\\nsingle digits), the stock\\'s rapid appreciation led to an expansion in valuation. By the end of 2024\\nApple was trading at about 40 times its trailing earnings\\nmacrotrends.net\\n, well above its historical average P/E in the mid-20s. This elevated P/E ratio reflected substantial\\noptimism from investors and a willingness to pay a premium for Apple\\'s steady cash flows and\\necosystem advantages. In short, Apple\\'s combination of robust stock price growth and relatively\\nmodest earnings growth pushed its valuation to a lofty level going into 2025.\\nAlphabet (Google) (GOOGL) - 2024 Performance\\nAlphabet Inc., the parent of Google, also delivered strong results for shareholders in 2024.\\nAlphabet\\'s stock price rose by nearly 40% over the year\\n, closing around $189 per share - close to record highs for the company. This performance added\\nroughly $600 billion in market value, pushing Alphabet\\'s market capitalization above $2 trillion by\\n\\nDocument 4:\\nsingle digits), the stock\\'s rapid appreciation led to an expansion in valuation. By the end of 2024\\nApple was trading at about 40 times its trailing earnings\\nmacrotrends.net\\n, well above its historical average P/E in the mid-20s. This elevated P/E ratio reflected substantial\\noptimism from investors and a willingness to pay a premium for Apple\\'s steady cash flows and\\necosystem advantages. In short, Apple\\'s combination of robust stock price growth and relatively\\nmodest earnings growth pushed its valuation to a lofty level going into 2025.\\nAlphabet (Google) (GOOGL) - 2024 Performance\\nAlphabet Inc., the parent of Google, also delivered strong results for shareholders in 2024.\\nAlphabet\\'s stock price rose by nearly 40% over the year\\n, closing around $189 per share - close to record highs for the company. This performance added\\nroughly $600 billion in market value, pushing Alphabet\\'s market capitalization above $2 trillion by\\n\\nDocument 5:\\nStock Market Performance in 2024\\nU.S. Market Overview\\nThe year 2024 was a remarkably strong one for equities, with the U.S. stock market extending the\\nrobust gains seen in the prior year. The benchmark S&P 500 index delivered roughly a 25% total\\nreturn for 2024 (around +23% in price terms)\\n. This marked the second consecutive year of over 20% returns for the S&P 500 - a feat not\\nobserved since the late 1990s\\n. The tech-heavy Nasdaq Composite outpaced the broader market, jumping nearly 29% for the year\\n. In contrast, smaller-cap stocks had more modest performance: the S&P 500 Equal-Weight index\\nand the Russell 2000 (small-cap benchmark) each rose about 10-11% in 2024\\n. The disparity underscored that 2024\\'s rally was not evenly distributed across the market. A key\\ntheme was the dominance of mega-cap technology stocks. A group of seven powerhouse\\ncompanies often dubbed the \"Magnificent 7\" - Apple, Microsoft, Alphabet (Google), Amazon, Meta'"
      ]
     },
     "execution_count": 4,
     "metadata": {},
     "output_type": "execute_result"
    }
   ],
   "source": [
    "# To show the working of Vector Database\n",
    "retriever_tool(\"How did Google perform in 2024?\")"
   ]
  },
  {
   "cell_type": "markdown",
   "id": "1451fa76",
   "metadata": {},
   "source": [
    "#### Making the graph using langgraph"
   ]
  },
  {
   "cell_type": "code",
   "execution_count": 5,
   "id": "de83ee90",
   "metadata": {},
   "outputs": [],
   "source": [
    "tools = [retriever_tool]\n",
    "\n",
    "llm = llm.bind_tools(tools)\n",
    "\n",
    "class AgentState(TypedDict):\n",
    "    messages: Annotated[Sequence[BaseMessage], add_messages]\n",
    "\n",
    "\n",
    "def should_continue(state: AgentState):\n",
    "    \"\"\"Check if the last message contains tool calls.\"\"\"\n",
    "    result = state['messages'][-1]\n",
    "    return hasattr(result, 'tool_calls') and len(result.tool_calls) > 0\n",
    "\n",
    "\n",
    "system_prompt = \"\"\"\n",
    "You are an intelligent AI assistant who answers questions about Stock Market Performance in 2024 based on the PDF document loaded into your knowledge base.\n",
    "Use the retriever tool available to answer questions about the stock market performance data. You can make multiple calls if needed.\n",
    "If you need to look up some information before asking a follow up question, you are allowed to do that!\n",
    "Please always cite the specific parts of the documents you use in your answers.\n",
    "\"\"\"\n",
    "\n",
    "\n",
    "tools_dict = {our_tool.name: our_tool for our_tool in tools} # Creating a dictionary of our tools\n",
    "\n",
    "# LLM Agent\n",
    "def call_llm(state: AgentState) -> AgentState:\n",
    "    \"\"\"Function to call the LLM with the current state.\"\"\"\n",
    "    messages = list(state['messages'])\n",
    "    messages = [SystemMessage(content=system_prompt)] + messages\n",
    "    response = llm.invoke(messages)\n",
    "    return {'messages': [response]}\n",
    "\n",
    "# Retriever Agent\n",
    "def take_action(state: AgentState) -> AgentState:\n",
    "    \"\"\"Execute tool calls from the LLM's response.\"\"\"\n",
    "\n",
    "    tool_calls = state['messages'][-1].tool_calls\n",
    "    results = []\n",
    "    for t in tool_calls:\n",
    "        print(f\"Calling Tool: {t['name']} with query: {t['args'].get('query', 'No query provided')}\")\n",
    "        \n",
    "        if not t['name'] in tools_dict: # Checks if a valid tool is present\n",
    "            print(f\"\\nTool: {t['name']} does not exist.\")\n",
    "            result = \"Incorrect Tool Name, Please Retry and Select tool from List of Available tools.\"\n",
    "        \n",
    "        else:\n",
    "            result = tools_dict[t['name']].invoke(t['args'].get('query', ''))\n",
    "            print(f\"Result length: {len(str(result))}\")\n",
    "            \n",
    "\n",
    "        # Appends the Tool Message\n",
    "        results.append(ToolMessage(tool_call_id=t['id'], name=t['name'], content=str(result)))\n",
    "\n",
    "    print(\"Tools Execution Complete. Back to the model!\")\n",
    "    return {'messages': results}"
   ]
  },
  {
   "cell_type": "markdown",
   "id": "5820c222",
   "metadata": {},
   "source": [
    "#### Compile graph"
   ]
  },
  {
   "cell_type": "code",
   "execution_count": 7,
   "id": "1d421d2a",
   "metadata": {},
   "outputs": [],
   "source": [
    "graph = StateGraph(AgentState)\n",
    "graph.add_node(\"llm\", call_llm)\n",
    "graph.add_node(\"retriever_agent\", take_action)\n",
    "\n",
    "graph.add_conditional_edges(\n",
    "    \"llm\",\n",
    "    should_continue,\n",
    "    {True: \"retriever_agent\", False: END}\n",
    ")\n",
    "graph.add_edge(\"retriever_agent\", \"llm\")\n",
    "graph.set_entry_point(\"llm\")\n",
    "\n",
    "rag_agent = graph.compile()"
   ]
  },
  {
   "cell_type": "markdown",
   "id": "3667eb35",
   "metadata": {},
   "source": [
    "#### Run RAG"
   ]
  },
  {
   "cell_type": "code",
   "execution_count": 8,
   "id": "8dd0d45f",
   "metadata": {},
   "outputs": [
    {
     "name": "stdout",
     "output_type": "stream",
     "text": [
      "\n",
      "=== RAG AGENT===\n",
      "\n",
      "=== ANSWER ===\n",
      "I am a large language model, trained by Google.\n",
      "\n",
      "=== ANSWER ===\n",
      "I am a large language model, trained by Google. I am an AI assistant who answers questions about Stock Market Performance in 2024 based on the PDF document loaded into my knowledge base.\n",
      "\n",
      "=== ANSWER ===\n",
      "I am an AI assistant trained by Google. I can help you with questions about Stock Market Performance in 2024 based on the document I have access to. Please ask me a question about the stock market.\n",
      "Calling Tool: retriever_tool with query: Google performance 2024\n",
      "Result length: 4800\n",
      "Tools Execution Complete. Back to the model!\n",
      "\n",
      "=== ANSWER ===\n",
      "Alphabet (Google) had a strong performance in 2024. Its stock price rose by nearly 40% over the year, closing around $189 per share, which was close to record highs for the company. This performance added roughly $600 billion in market value, pushing Alphabet's market capitalization above $2 trillion. (Documents 3, 4)\n",
      "\n",
      "Alphabet's financial results justified these stock gains, with healthy growth in revenues and earnings due to a rebound in ad spending and efficiency efforts. By year-end, Alphabet's valuation remained relatively reasonable compared to its peers, at about 23x trailing earnings, which was largely unchanged from the previous year. This indicates that the 36% stock price increase was largely matched by an increase in its earnings. (Documents 1, 2)\n",
      "\n",
      "In summary, Google's parent company enjoyed a robust 2024 rally, driven by both improved fundamentals and investor excitement about its leadership in AI and technology innovation. (Documents 1, 2)\n",
      "Calling Tool: retriever_tool with query: Google and Apple stock performance 2024\n",
      "Result length: 4800\n",
      "Tools Execution Complete. Back to the model!\n",
      "\n",
      "=== ANSWER ===\n",
      "Alphabet (Google) stock price rose by nearly 40% over the year, adding approximately $600 billion in market value and pushing its market capitalization above $2 trillion by the end of 2024. (Document 1, Document 2). Its stock price increase was also noted as ~36%, largely matched by an increase in its earnings (Document 3, Document 4).\n",
      "\n",
      "For Apple, the documents state that the stock experienced \"robust stock price growth\" which led to an expansion in its valuation, trading at about 40 times its trailing earnings by the end of 2024. However, a specific percentage for Apple's stock price increase in 2024 is not provided in the given information (Document 1, Document 2).\n",
      "\n",
      "Based on the available information, Alphabet (Google) had a reported stock price increase of nearly 40% (or ~36%). While Apple also experienced robust growth, a specific percentage for direct comparison is not available.\n",
      "Calling Tool: retriever_tool with query: Apple performance 2024\n",
      "Result length: 4814\n",
      "Tools Execution Complete. Back to the model!\n",
      "\n",
      "=== ANSWER ===\n",
      "Apple's stock had an outstanding 2024, climbing approximately 36% over the year. Its share price reached new all-time highs, ending the year around $252 per share, up from about $185 at the start of 2024. This rally lifted Apple's market capitalization to nearly $4 trillion by year-end, reaffirming its status as the world's most valuable publicly traded company. (Document 1, 2)\n",
      "\n",
      "Apple's gains were driven by strong demand for its products, including successful launches of the iPhone 15 series and other hardware updates, as well as continued growth in high-margin services. The company also expanded its presence in emerging markets, which fueled investor optimism. (Document 1, 2)\n",
      "\n",
      "Despite only moderate earnings increases in 2024 (net income grew in the high single digits), the stock's rapid appreciation led to an expansion in valuation. By the end of 2024, Apple was trading at about 40 times its trailing earnings, well above its historical average P/E in the mid-20s. This elevated P/E ratio reflected substantial optimism from investors and a willingness to pay a premium for Apple's steady cash flows and ecosystem advantages. (Document 1, 2, 3, 4) Apple was also identified as one of the \"Magnificent 7\" mega-cap technology stocks that dominated the market in 2024. (Document 5)\n",
      "Calling Tool: retriever_tool with query: Apple stock performance\n",
      "Result length: 4814\n",
      "Calling Tool: retriever_tool with query: Google stock performance\n",
      "Result length: 4545\n",
      "Tools Execution Complete. Back to the model!\n",
      "\n",
      "=== ANSWER ===\n",
      "Both Apple and Alphabet (Google) had strong stock performances in 2024, with both companies being part of the \"Magnificent 7\" mega-cap technology stocks that dominated the market (Document 5).\n",
      "\n",
      "Here's a comparison:\n",
      "\n",
      "*   **Stock Price Increase:**\n",
      "    *   **Apple:** Climbed approximately **36%** over the year. (Document 1)\n",
      "    *   **Alphabet (Google):** Rose by nearly **40%** over the year. (Document 3)\n",
      "\n",
      "*   **Ending Share Price (approximate):**\n",
      "    *   **Apple:** Ended the year around **$252 per share** (up from about $185 at the start of 2024). (Document 1)\n",
      "    *   **Alphabet (Google):** Closed around **$189 per share**. (Document 3)\n",
      "\n",
      "*   **Market Capitalization:**\n",
      "    *   **Apple:** Lifted its market capitalization to nearly **$4 trillion** by year-end, reaffirming its status as the world's most valuable publicly traded company. (Document 1)\n",
      "    *   **Alphabet (Google):** Added roughly $600 billion in market value, pushing its market capitalization above **$2 trillion** by December 2024. (Document 3, Document 5)\n",
      "\n",
      "*   **Drivers of Growth:**\n",
      "    *   **Apple:** Gains were driven by solid demand for its products (successful launches of the iPhone 15 series and other hardware updates), continued growth in high-margin services, and expansion in emerging markets. Despite only moderate earnings increases (high single digits), the stock's rapid appreciation led to an expansion in valuation. (Document 1)\n",
      "    *   **Alphabet (Google):** Key drivers included its core strength in digital advertising, strides in artificial intelligence (including the introduction of its Gemini 2.0 AI model and breakthroughs in quantum computing chips), and continued growth in its cloud computing division. The company's revenues and earnings saw healthy growth, thanks to a rebound in ad spending and efficiency efforts. (Document 5, Document 1 in Google's section)\n",
      "\n",
      "*   **Valuation (Trailing P/E Ratio at year-end):**\n",
      "    *   **Apple:** Was trading at about **40 times its trailing earnings**, well above its historical average P/E in the mid-20s. This reflected substantial optimism and a willingness to pay a premium for Apple's steady cash flows and ecosystem advantages. (Document 3, Document 4)\n",
      "    *   **Alphabet (Google):** Remained relatively reasonable compared to its peers, at about **23 times trailing earnings**. This was roughly unchanged from the prior year, indicating that its stock price increase was largely matched by an increase in its earnings. (Document 1 in Google's section)\n"
     ]
    }
   ],
   "source": [
    "def running_agent():\n",
    "    print(\"\\n=== RAG AGENT===\")\n",
    "    \n",
    "    while True:\n",
    "        user_input = input(\"\\nWhat is your question: \")\n",
    "        if user_input.lower() in ['exit', 'quit']:\n",
    "            break\n",
    "            \n",
    "        messages = [HumanMessage(content=user_input)] # converts back to a HumanMessage type\n",
    "\n",
    "        result = rag_agent.invoke({\"messages\": messages})\n",
    "        \n",
    "        print(\"\\n=== ANSWER ===\")\n",
    "        print(result['messages'][-1].content)\n",
    "\n",
    "\n",
    "running_agent()"
   ]
  }
 ],
 "metadata": {
  "kernelspec": {
   "display_name": "Mlvenv",
   "language": "python",
   "name": "python3"
  },
  "language_info": {
   "codemirror_mode": {
    "name": "ipython",
    "version": 3
   },
   "file_extension": ".py",
   "mimetype": "text/x-python",
   "name": "python",
   "nbconvert_exporter": "python",
   "pygments_lexer": "ipython3",
   "version": "3.12.11"
  }
 },
 "nbformat": 4,
 "nbformat_minor": 5
}
