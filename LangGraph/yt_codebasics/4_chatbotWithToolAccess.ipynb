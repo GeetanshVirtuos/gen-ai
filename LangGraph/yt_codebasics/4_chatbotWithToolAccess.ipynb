{
 "cells": [
  {
   "cell_type": "markdown",
   "id": "6794f261",
   "metadata": {},
   "source": [
    "##### Till \"3_chatbotWithLangGraph.ipynb\", the LLM did not have access to any tools. So, If I ask it \"What is the stock price of Google today, it can't tell, because LLMs have a knowledge cutoff date.\n",
    "##### So, we give our LLM access to certain \"tools\" that it can call when needed, like Stock APIs. LLM makes the intelligent decision of which tool to call (ex: by reading the docstring etc. associated with the tools)."
   ]
  },
  {
   "cell_type": "code",
   "execution_count": 1,
   "id": "c243bbb7",
   "metadata": {},
   "outputs": [],
   "source": [
    "from langchain_core.tools import tool\n",
    "from langchain.chat_models import init_chat_model\n",
    "from typing import TypedDict, Annotated\n",
    "from langgraph.graph import StateGraph, START, END\n",
    "from langgraph.graph.message import add_messages\n",
    "from langgraph.prebuilt import ToolNode, tools_condition"
   ]
  },
  {
   "cell_type": "code",
   "execution_count": 2,
   "id": "0b60c556",
   "metadata": {},
   "outputs": [
    {
     "data": {
      "text/plain": [
       "True"
      ]
     },
     "execution_count": 2,
     "metadata": {},
     "output_type": "execute_result"
    }
   ],
   "source": [
    "from dotenv import load_dotenv \n",
    "load_dotenv()  # take environment variables from .env file "
   ]
  },
  {
   "cell_type": "code",
   "execution_count": 3,
   "id": "7dd5f8b4",
   "metadata": {},
   "outputs": [],
   "source": [
    "class State(TypedDict):\n",
    "    # Messages have the type \"list\". The `add_messages` function\n",
    "    # in the annotation defines how this state key should be updated\n",
    "    # (in this case, it appends messages to the list, rather than overwriting them)\n",
    "    messages: Annotated[list, add_messages]\n",
    "\n",
    "# A dummy tool, in real life, it would be replaced with actual APIs\n",
    "# Notice the docstring, this is what the LM uses to know when to call which tool\n",
    "@tool\n",
    "def get_stock_price(symbol: str) -> float:\n",
    "    '''Return the current price of a stock given the stock symbol\n",
    "    :param symbol: one of  \"MSFT\", \"AAPL\", \"AMZN\" and \"RIL\"\n",
    "    :return: current price of the stock\n",
    "    '''\n",
    "    return {\n",
    "        \"MSFT\": 200.3,\n",
    "        \"AAPL\": 100.4,\n",
    "        \"AMZN\": 150.0,\n",
    "        \"RIL\": 87.6\n",
    "    }.get(symbol, 0.0)\n",
    "\n",
    "tools = [get_stock_price] # Include all the tools here as a list\n",
    "\n",
    "# llm = init_chat_model(\"gemini-2.5-flash\", model_provider=\"google_genai\")\n",
    "llm = init_chat_model(\"google_genai:gemini-2.0-flash\")\n",
    "llm_with_tools = llm.bind_tools(tools)"
   ]
  },
  {
   "cell_type": "code",
   "execution_count": 4,
   "id": "4e6a247c",
   "metadata": {},
   "outputs": [],
   "source": [
    "\n",
    "\n",
    "def chatbot(state: State):\n",
    "    response = llm_with_tools.invoke(state[\"messages\"])\n",
    "    # # NOTE: response does NOT contain the answer now! \n",
    "    # print(\"response:\", response)\n",
    "    # print('\\n')\n",
    "    return {\"messages\": [response]}\n",
    "\n",
    "builder = StateGraph(State)\n",
    "\n",
    "# Adding nodes to the graph\n",
    "builder.add_node(\"chat_bot\", chatbot) # Syntax: \"<name of node>\", <function that the node will execute>\n",
    "builder.add_node(\"tools\", ToolNode(tools))\n",
    "\n",
    "\n",
    "# Adding edges to the graph\n",
    "builder.add_edge(START, \"chat_bot\") # Syntax: <from node>, <to node>; START and END are special nodes. More specifically, the START Node is a special node that \n",
    "builder.add_conditional_edges(\"chat_bot\", tools_condition)\n",
    "\n",
    "graph = builder.compile()"
   ]
  },
  {
   "cell_type": "code",
   "execution_count": 5,
   "id": "a4584b1d",
   "metadata": {},
   "outputs": [
    {
     "data": {
      "image/png": "[encoded data removed]",
      "text/plain": [
       "<IPython.core.display.Image object>"
      ]
     },
     "metadata": {},
     "output_type": "display_data"
    }
   ],
   "source": [
    "from IPython.display import Image, display\n",
    "display(Image(graph.get_graph().draw_mermaid_png()))"
   ]
  },
  {
   "cell_type": "code",
   "execution_count": 6,
   "id": "be063a19",
   "metadata": {},
   "outputs": [
    {
     "name": "stdout",
     "output_type": "stream",
     "text": [
      "100.4\n"
     ]
    }
   ],
   "source": [
    "initial_state: State = {\"messages\": [{\"role\": \"user\", \"content\": \"What is the price of AAPL stock right now?\"}]}\n",
    "final_state = graph.invoke(initial_state)\n",
    "print(final_state[\"messages\"][-1].content)"
   ]
  },
  {
   "cell_type": "code",
   "execution_count": 8,
   "id": "1cfb0bc4",
   "metadata": {},
   "outputs": [
    {
     "name": "stdout",
     "output_type": "stream",
     "text": [
      "Albert Einstein\n"
     ]
    }
   ],
   "source": [
    "state = graph.invoke({\"messages\": [{\"role\": \"user\", \"content\": \"Who invented theory of relativity? print person name only\"}]})\n",
    "print(state[\"messages\"][-1].content)"
   ]
  },
  {
   "cell_type": "markdown",
   "id": "f12788a3",
   "metadata": {},
   "source": [
    "### Our chatbot will fail the below question because from llm we have an edge to tools and then to end. It can't repeatedly call tools and respond cleverly"
   ]
  },
  {
   "cell_type": "code",
   "execution_count": 11,
   "id": "b8215fa1",
   "metadata": {},
   "outputs": [
    {
     "name": "stdout",
     "output_type": "stream",
     "text": [
      "200.3\n"
     ]
    }
   ],
   "source": [
    "msg = \"I want to buy 20 AMZN stocks using current price. Then 15 MSFT. What will be the total cost?\"\n",
    "\n",
    "state = graph.invoke({\"messages\": [{\"role\": \"user\", \"content\": msg}]})\n",
    "print(state[\"messages\"][-1].content)"
   ]
  }
 ],
 "metadata": {
  "kernelspec": {
   "display_name": "Mlvenv",
   "language": "python",
   "name": "python3"
  },
  "language_info": {
   "codemirror_mode": {
    "name": "ipython",
    "version": 3
   },
   "file_extension": ".py",
   "mimetype": "text/x-python",
   "name": "python",
   "nbconvert_exporter": "python",
   "pygments_lexer": "ipython3",
   "version": "3.12.11"
  }
 },
 "nbformat": 4,
 "nbformat_minor": 5
}
