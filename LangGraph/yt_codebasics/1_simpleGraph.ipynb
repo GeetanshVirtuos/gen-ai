{
 "cells": [
  {
   "cell_type": "markdown",
   "id": "9f33294d",
   "metadata": {},
   "source": [
    "### Define State, functions"
   ]
  },
  {
   "cell_type": "code",
   "execution_count": 7,
   "id": "b6bf2175",
   "metadata": {},
   "outputs": [],
   "source": [
    "from typing import TypedDict\n",
    "\n",
    "\"\"\"\n",
    "    Objective: A simple graph flow to analyse your investment portfolio.\n",
    "\"\"\"\n",
    "\n",
    "class PortfolioState(TypedDict):\n",
    "    invested_amount_usd: float\n",
    "    total_usd: float # amount after 8% return\n",
    "    total_inr: float # amount after conversion to inr\n",
    "\n",
    "def calculate_total(state: PortfolioState) -> PortfolioState:\n",
    "    state[\"total_usd\"] = state[\"invested_amount_usd\"] * 1.08  # amount after 8% return\n",
    "    return state\n",
    "\n",
    "def convert_to_inr(state: PortfolioState) -> PortfolioState:\n",
    "    state[\"total_inr\"] = state[\"total_usd\"] * 82.0 # amount after conversion to inr\n",
    "    return state"
   ]
  },
  {
   "cell_type": "markdown",
   "id": "128d6223",
   "metadata": {},
   "source": [
    "### Make your graph"
   ]
  },
  {
   "cell_type": "code",
   "execution_count": 8,
   "id": "62f771e2",
   "metadata": {},
   "outputs": [],
   "source": [
    "from langgraph.graph import StateGraph, START, END\n",
    "\n",
    "builder = StateGraph(PortfolioState)\n",
    "\n",
    "# Adding nodes to the graph\n",
    "builder.add_node(\"calculates_total_node\", calculate_total) # Syntax: \"<name of node>\", <function that the node will execute>\n",
    "builder.add_node(\"convert_to_inr_node\", convert_to_inr)\n",
    "\n",
    "# Adding edges to the graph\n",
    "builder.add_edge(START, \"calculates_total_node\") # Syntax: <from node>, <to node>; START and END are special nodes. More specifically, the START Node is a special node that represents the node that sends user input to the graph.\n",
    "builder.add_edge(\"calculates_total_node\", \"convert_to_inr_node\")\n",
    "builder.add_edge(\"convert_to_inr_node\", END) # The END Node is a special node that represents the final output of the graph.\n",
    "\n",
    "graph = builder.compile()"
   ]
  },
  {
   "cell_type": "markdown",
   "id": "e42c9374",
   "metadata": {},
   "source": [
    "### View the graph, right now, our graph is simple and linear"
   ]
  },
  {
   "cell_type": "code",
   "execution_count": 9,
   "id": "3f10dbe7",
   "metadata": {},
   "outputs": [
    {
     "data": {
      "image/png": "[encoded data removed]",
      "text/plain": [
       "<IPython.core.display.Image object>"
      ]
     },
     "metadata": {},
     "output_type": "display_data"
    }
   ],
   "source": [
    "from IPython.display import Image, display\n",
    "display(Image(graph.get_graph().draw_mermaid_png())) # visualize the graph"
   ]
  },
  {
   "cell_type": "code",
   "execution_count": 10,
   "id": "5986b9a2",
   "metadata": {},
   "outputs": [
    {
     "data": {
      "text/plain": [
       "{'invested_amount_usd': 1000.0, 'total_usd': 1080.0, 'total_inr': 88560.0}"
      ]
     },
     "execution_count": 10,
     "metadata": {},
     "output_type": "execute_result"
    }
   ],
   "source": [
    "graph.invoke({\"invested_amount_usd\": 1000.0}) # invoke the graph with initial state"
   ]
  }
 ],
 "metadata": {
  "kernelspec": {
   "display_name": "Mlvenv",
   "language": "python",
   "name": "python3"
  },
  "language_info": {
   "codemirror_mode": {
    "name": "ipython",
    "version": 3
   },
   "file_extension": ".py",
   "mimetype": "text/x-python",
   "name": "python",
   "nbconvert_exporter": "python",
   "pygments_lexer": "ipython3",
   "version": "3.12.11"
  }
 },
 "nbformat": 4,
 "nbformat_minor": 5
}
