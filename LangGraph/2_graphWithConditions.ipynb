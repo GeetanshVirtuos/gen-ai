{
 "cells": [
  {
   "cell_type": "code",
   "execution_count": 2,
   "id": "cf3db7bd",
   "metadata": {},
   "outputs": [],
   "source": [
    "from typing import TypedDict, Literal\n",
    "\n",
    "\"\"\"\n",
    "    See 1_simpleGraph.ipynb before this.\n",
    "\n",
    "    Objective: A graph with conditions to analyse your investment portfolio. This time, i can specify the target currency to convert to.\n",
    "\"\"\"\n",
    "\n",
    "class PortfolioState(TypedDict):\n",
    "    invested_amount_usd: float\n",
    "    total_usd: float # amount after 8% return\n",
    "    target_currentcy: Literal[\"INR\", \"EUR\"] # target currency to convert to, e.g. \"INR\", \"EUR\"\n",
    "    total: float # amount after conversion to target currency\n",
    "\n",
    "def calculate_total(state: PortfolioState) -> PortfolioState:\n",
    "    state[\"total_usd\"] = state[\"invested_amount_usd\"] * 1.08  # amount after 8% return\n",
    "    return state\n",
    "\n",
    "def convert_to_inr(state: PortfolioState) -> PortfolioState:\n",
    "    state[\"total\"] = state[\"total_usd\"] * 82.0 # amount after conversion to inr\n",
    "    return state\n",
    "\n",
    "def convert_to_eur(state: PortfolioState) -> PortfolioState:\n",
    "    state[\"total\"] = state[\"total_usd\"] * 0.91 # amount after conversion to eur\n",
    "    return state \n",
    "\n",
    "def get_target_currentcy(state: PortfolioState) -> Literal[\"INR\", \"EUR\"]:\n",
    "    return state[\"target_currentcy\"]"
   ]
  },
  {
   "cell_type": "code",
   "execution_count": 4,
   "id": "eaca35f4",
   "metadata": {},
   "outputs": [],
   "source": [
    "from langgraph.graph import StateGraph, START, END\n",
    "\n",
    "builder = StateGraph(PortfolioState)\n",
    "\n",
    "# Adding nodes to the graph\n",
    "builder.add_node(\"calculates_total_node\", calculate_total) # Syntax: \"<name of node>\", <function that the node will execute>\n",
    "builder.add_node(\"convert_to_inr_node\", convert_to_inr)\n",
    "builder.add_node(\"convert_to_eur_node\", convert_to_eur)  \n",
    "\n",
    "# Adding edges to the graph\n",
    "builder.add_edge(START, \"calculates_total_node\") # Syntax: <from node>, <to node>; START and END are special nodes. More specifically, the START Node is a special node that represents the node that sends user input to the graph.\n",
    "builder.add_conditional_edges(\n",
    "    \"calculates_total_node\",\n",
    "    get_target_currentcy,\n",
    "    {\n",
    "        \"INR\": \"convert_to_inr_node\",\n",
    "        \"EUR\": \"convert_to_eur_node\"\n",
    "    }\n",
    ")\n",
    "builder.add_edge(\"convert_to_inr_node\", END)\n",
    "builder.add_edge(\"convert_to_eur_node\", END)\n",
    "\n",
    "graph = builder.compile() "
   ]
  },
  {
   "cell_type": "code",
   "execution_count": 5,
   "id": "e888f8de",
   "metadata": {},
   "outputs": [
    {
     "data": {
      "image/png": "[encoded data removed]",
      "text/plain": [
       "<IPython.core.display.Image object>"
      ]
     },
     "metadata": {},
     "output_type": "display_data"
    }
   ],
   "source": [
    "from IPython.display import Image, display\n",
    "display(Image(graph.get_graph().draw_mermaid_png())) # visualize the graph"
   ]
  },
  {
   "cell_type": "code",
   "execution_count": null,
   "id": "6e0a6e13",
   "metadata": {},
   "outputs": [
    {
     "data": {
      "text/plain": [
       "{'invested_amount_usd': 1000.0,\n",
       " 'total_usd': 1080.0,\n",
       " 'target_currentcy': 'INR',\n",
       " 'total': 88560.0}"
      ]
     },
     "execution_count": 7,
     "metadata": {},
     "output_type": "execute_result"
    }
   ],
   "source": [
    "graph.invoke({\"invested_amount_usd\": 1000.0, \"target_currentcy\": \"EUR\"}) # invoke the graph with initial state"
   ]
  },
  {
   "cell_type": "code",
   "execution_count": 9,
   "id": "e7db22bc",
   "metadata": {},
   "outputs": [
    {
     "data": {
      "text/plain": [
       "{'invested_amount_usd': 1000.0,\n",
       " 'total_usd': 1080.0,\n",
       " 'target_currentcy': 'EUR',\n",
       " 'total': 982.8000000000001}"
      ]
     },
     "execution_count": 9,
     "metadata": {},
     "output_type": "execute_result"
    }
   ],
   "source": [
    "graph.invoke({\"invested_amount_usd\": 1000.0, \"target_currentcy\": \"EUR\"}) # invoke the graph with initial state"
   ]
  }
 ],
 "metadata": {
  "kernelspec": {
   "display_name": "Mlvenv",
   "language": "python",
   "name": "python3"
  },
  "language_info": {
   "codemirror_mode": {
    "name": "ipython",
    "version": 3
   },
   "file_extension": ".py",
   "mimetype": "text/x-python",
   "name": "python",
   "nbconvert_exporter": "python",
   "pygments_lexer": "ipython3",
   "version": "3.12.11"
  }
 },
 "nbformat": 4,
 "nbformat_minor": 5
}
